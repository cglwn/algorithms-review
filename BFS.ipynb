{
 "cells": [
  {
   "cell_type": "markdown",
   "metadata": {},
   "source": [
    "**Breadth-first search (BFS)** is a graph search algorithm which visits a vertices and all of its neighbours before visiting any of its neighbours' neighbours.\n",
    "\n",
    "This notebook explores BFS and its applications. We will use the adjacency list representation of a graph, where each vertex is a number and its neighbours are stored in a list. Thus a graph is represented as a 2D array."
   ]
  },
  {
   "cell_type": "markdown",
   "metadata": {},
   "source": [
    "# Applications\n",
    "## Edge-distance\n",
    "Write a function which finds the edge distance between a vertex v and all other vertices of the graph."
   ]
  },
  {
   "cell_type": "code",
   "execution_count": 46,
   "metadata": {
    "collapsed": true
   },
   "outputs": [],
   "source": [
    "from queue import Queue\n",
    "\n",
    "graph = [\n",
    "    [1, 2],\n",
    "    [0, 3],\n",
    "    [0, 4],\n",
    "    [1],\n",
    "    [2]\n",
    "]\n",
    "\n",
    "def edge_distance(G, v):\n",
    "    \"\"\"Finds the edge distance of all vertices in a graph G from a source vertex v.\n",
    "    \"\"\"\n",
    "    visited = [False for _ in G]\n",
    "    distance = [None for _ in G]\n",
    "    \n",
    "    distance[v] = 0\n",
    "    \n",
    "    queue = Queue()\n",
    "    queue.put(v)\n",
    "    \n",
    "    while not queue.empty():\n",
    "        current_vertex = queue.get()\n",
    "        visited[current_vertex] = True\n",
    "        for neighbour in G[current_vertex]:\n",
    "            if not visited[neighbour]:\n",
    "                queue.put(neighbour)\n",
    "                distance[neighbour] = distance[current_vertex] + 1\n",
    "                \n",
    "    return distance"
   ]
  },
  {
   "cell_type": "markdown",
   "metadata": {},
   "source": [
    "## Bipartition"
   ]
  },
  {
   "cell_type": "code",
   "execution_count": 45,
   "metadata": {
    "collapsed": false
   },
   "outputs": [
    {
     "data": {
      "text/plain": [
       "([0, 1, 1, 0, 0], True)"
      ]
     },
     "execution_count": 45,
     "metadata": {},
     "output_type": "execute_result"
    }
   ],
   "source": [
    "def is_bipartite(G):\n",
    "    \"\"\"Determines if a graph is bipartite or not.\n",
    "    \n",
    "    Returns True if G is bipartite, and returns False otherwise.\n",
    "    \"\"\"\n",
    "    visited = [False for _ in G]\n",
    "    label = [None for _ in G]\n",
    "    \n",
    "    queue = Queue()\n",
    "    queue.put(0)\n",
    "    label[0] = 0\n",
    "    \n",
    "    while not queue.empty():\n",
    "        current_vertex = queue.get()\n",
    "        visited[current_vertex] = True\n",
    "        this_label = label[current_vertex]\n",
    "        neighbour_label = 1 if this_label == 0 else 0\n",
    "        for neighbour in G[current_vertex]:\n",
    "            if label[neighbour] is not None and label[neighbour] == this_label:\n",
    "                return label, False\n",
    "            if not visited[neighbour]:\n",
    "                queue.put(neighbour)\n",
    "                label[neighbour] = neighbour_label\n",
    "                \n",
    "    return label, True\n",
    "is_bipartite(graph)"
   ]
  }
 ],
 "metadata": {
  "kernelspec": {
   "display_name": "Python 3",
   "language": "python",
   "name": "python3"
  },
  "language_info": {
   "codemirror_mode": {
    "name": "ipython",
    "version": 3
   },
   "file_extension": ".py",
   "mimetype": "text/x-python",
   "name": "python",
   "nbconvert_exporter": "python",
   "pygments_lexer": "ipython3",
   "version": "3.5.0"
  }
 },
 "nbformat": 4,
 "nbformat_minor": 0
}
